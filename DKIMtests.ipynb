{
  "nbformat": 4,
  "nbformat_minor": 0,
  "metadata": {
    "colab": {
      "provenance": []
    },
    "kernelspec": {
      "name": "python3",
      "display_name": "Python 3"
    },
    "language_info": {
      "name": "python"
    }
  },
  "cells": [
    {
      "cell_type": "code",
      "execution_count": 2,
      "metadata": {
        "colab": {
          "base_uri": "https://localhost:8080/"
        },
        "id": "5UwNxwNwU5pv",
        "outputId": "a5516a7d-7172-43d0-f066-8b81b1920fa7"
      },
      "outputs": [
        {
          "output_type": "stream",
          "name": "stdout",
          "text": [
            "Collecting dnspython\n",
            "  Downloading dnspython-2.7.0-py3-none-any.whl.metadata (5.8 kB)\n",
            "Downloading dnspython-2.7.0-py3-none-any.whl (313 kB)\n",
            "\u001b[?25l   \u001b[90m━━━━━━━━━━━━━━━━━━━━━━━━━━━━━━━━━━━━━━━━\u001b[0m \u001b[32m0.0/313.6 kB\u001b[0m \u001b[31m?\u001b[0m eta \u001b[36m-:--:--\u001b[0m\r\u001b[2K   \u001b[91m━━━━━━━━━━━━━━━\u001b[0m\u001b[91m╸\u001b[0m\u001b[90m━━━━━━━━━━━━━━━━━━━━━━━━\u001b[0m \u001b[32m122.9/313.6 kB\u001b[0m \u001b[31m3.7 MB/s\u001b[0m eta \u001b[36m0:00:01\u001b[0m\r\u001b[2K   \u001b[90m━━━━━━━━━━━━━━━━━━━━━━━━━━━━━━━━━━━━━━━━\u001b[0m \u001b[32m313.6/313.6 kB\u001b[0m \u001b[31m4.5 MB/s\u001b[0m eta \u001b[36m0:00:00\u001b[0m\n",
            "\u001b[?25hInstalling collected packages: dnspython\n",
            "Successfully installed dnspython-2.7.0\n"
          ]
        }
      ],
      "source": [
        "!pip install dnspython\n"
      ]
    },
    {
      "cell_type": "code",
      "source": [
        "import dns.resolver"
      ],
      "metadata": {
        "id": "nmpQYIGYVNQl"
      },
      "execution_count": 3,
      "outputs": []
    },
    {
      "cell_type": "code",
      "source": [
        "resolver = dns.resolver.Resolver()\n",
        "resolver.nameservers = [\"1.1.1.1\"]"
      ],
      "metadata": {
        "id": "-Ve8n7dGVPlA"
      },
      "execution_count": 4,
      "outputs": []
    },
    {
      "cell_type": "code",
      "source": [
        "query = resolver.resolve(\"google.com\", \"A\")"
      ],
      "metadata": {
        "id": "ITknQjfcVUxD"
      },
      "execution_count": 5,
      "outputs": []
    },
    {
      "cell_type": "code",
      "source": [
        "for data in query:\n",
        "  print(data)"
      ],
      "metadata": {
        "colab": {
          "base_uri": "https://localhost:8080/"
        },
        "id": "WupHWy-IV1v7",
        "outputId": "50191bcb-3c25-4eee-c3fa-d83fe6848ec4"
      },
      "execution_count": 6,
      "outputs": [
        {
          "output_type": "stream",
          "name": "stdout",
          "text": [
            "142.250.191.46\n"
          ]
        }
      ]
    },
    {
      "cell_type": "code",
      "source": [
        "query_soa = resolver.resolve(\"google.com\", \"SOA\")\n",
        "for data in query_soa:\n",
        "  print(data)\n",
        "len(query_soa)"
      ],
      "metadata": {
        "colab": {
          "base_uri": "https://localhost:8080/"
        },
        "id": "Wwcx8-YHcmBT",
        "outputId": "802cc16f-7cf1-4709-9acd-e8554a71c93c"
      },
      "execution_count": 7,
      "outputs": [
        {
          "output_type": "stream",
          "name": "stdout",
          "text": [
            "ns1.google.com. dns-admin.google.com. 751966406 900 900 1800 60\n"
          ]
        },
        {
          "output_type": "execute_result",
          "data": {
            "text/plain": [
              "1"
            ]
          },
          "metadata": {},
          "execution_count": 7
        }
      ]
    },
    {
      "cell_type": "code",
      "source": [
        "def query_res(url, record):\n",
        "  query = resolver.resolve(url, record)\n",
        "  return query\n"
      ],
      "metadata": {
        "id": "SQQTqxeyc6jE"
      },
      "execution_count": 8,
      "outputs": []
    },
    {
      "cell_type": "code",
      "source": [
        "for data in query_res(\"google.com\", \"DKIM\"):\n",
        "  print(data)"
      ],
      "metadata": {
        "colab": {
          "base_uri": "https://localhost:8080/",
          "height": 304
        },
        "id": "GayTKmSYekW5",
        "outputId": "13ddb52a-992b-4cad-b07a-501b36b83f9c"
      },
      "execution_count": 9,
      "outputs": [
        {
          "output_type": "error",
          "ename": "UnknownRdatatype",
          "evalue": "DNS resource record type is unknown.",
          "traceback": [
            "\u001b[0;31m---------------------------------------------------------------------------\u001b[0m",
            "\u001b[0;31mUnknownRdatatype\u001b[0m                          Traceback (most recent call last)",
            "\u001b[0;32m<ipython-input-9-6ca5c8db700e>\u001b[0m in \u001b[0;36m<cell line: 0>\u001b[0;34m()\u001b[0m\n\u001b[0;32m----> 1\u001b[0;31m \u001b[0;32mfor\u001b[0m \u001b[0mdata\u001b[0m \u001b[0;32min\u001b[0m \u001b[0mquery_res\u001b[0m\u001b[0;34m(\u001b[0m\u001b[0;34m\"google.com\"\u001b[0m\u001b[0;34m,\u001b[0m \u001b[0;34m\"DKIM\"\u001b[0m\u001b[0;34m)\u001b[0m\u001b[0;34m:\u001b[0m\u001b[0;34m\u001b[0m\u001b[0;34m\u001b[0m\u001b[0m\n\u001b[0m\u001b[1;32m      2\u001b[0m   \u001b[0mprint\u001b[0m\u001b[0;34m(\u001b[0m\u001b[0mdata\u001b[0m\u001b[0;34m)\u001b[0m\u001b[0;34m\u001b[0m\u001b[0;34m\u001b[0m\u001b[0m\n",
            "\u001b[0;32m<ipython-input-8-431c670d349c>\u001b[0m in \u001b[0;36mquery_res\u001b[0;34m(url, record)\u001b[0m\n\u001b[1;32m      1\u001b[0m \u001b[0;32mdef\u001b[0m \u001b[0mquery_res\u001b[0m\u001b[0;34m(\u001b[0m\u001b[0murl\u001b[0m\u001b[0;34m,\u001b[0m \u001b[0mrecord\u001b[0m\u001b[0;34m)\u001b[0m\u001b[0;34m:\u001b[0m\u001b[0;34m\u001b[0m\u001b[0;34m\u001b[0m\u001b[0m\n\u001b[0;32m----> 2\u001b[0;31m   \u001b[0mquery\u001b[0m \u001b[0;34m=\u001b[0m \u001b[0mresolver\u001b[0m\u001b[0;34m.\u001b[0m\u001b[0mresolve\u001b[0m\u001b[0;34m(\u001b[0m\u001b[0murl\u001b[0m\u001b[0;34m,\u001b[0m \u001b[0mrecord\u001b[0m\u001b[0;34m)\u001b[0m\u001b[0;34m\u001b[0m\u001b[0;34m\u001b[0m\u001b[0m\n\u001b[0m\u001b[1;32m      3\u001b[0m   \u001b[0;32mreturn\u001b[0m \u001b[0mquery\u001b[0m\u001b[0;34m\u001b[0m\u001b[0;34m\u001b[0m\u001b[0m\n",
            "\u001b[0;32m/usr/local/lib/python3.11/dist-packages/dns/resolver.py\u001b[0m in \u001b[0;36mresolve\u001b[0;34m(self, qname, rdtype, rdclass, tcp, source, raise_on_no_answer, source_port, lifetime, search)\u001b[0m\n\u001b[1;32m   1299\u001b[0m         \"\"\"\n\u001b[1;32m   1300\u001b[0m \u001b[0;34m\u001b[0m\u001b[0m\n\u001b[0;32m-> 1301\u001b[0;31m         resolution = _Resolution(\n\u001b[0m\u001b[1;32m   1302\u001b[0m             \u001b[0mself\u001b[0m\u001b[0;34m,\u001b[0m \u001b[0mqname\u001b[0m\u001b[0;34m,\u001b[0m \u001b[0mrdtype\u001b[0m\u001b[0;34m,\u001b[0m \u001b[0mrdclass\u001b[0m\u001b[0;34m,\u001b[0m \u001b[0mtcp\u001b[0m\u001b[0;34m,\u001b[0m \u001b[0mraise_on_no_answer\u001b[0m\u001b[0;34m,\u001b[0m \u001b[0msearch\u001b[0m\u001b[0;34m\u001b[0m\u001b[0;34m\u001b[0m\u001b[0m\n\u001b[1;32m   1303\u001b[0m         )\n",
            "\u001b[0;32m/usr/local/lib/python3.11/dist-packages/dns/resolver.py\u001b[0m in \u001b[0;36m__init__\u001b[0;34m(self, resolver, qname, rdtype, rdclass, tcp, raise_on_no_answer, search)\u001b[0m\n\u001b[1;32m    650\u001b[0m         \u001b[0;32mif\u001b[0m \u001b[0misinstance\u001b[0m\u001b[0;34m(\u001b[0m\u001b[0mqname\u001b[0m\u001b[0;34m,\u001b[0m \u001b[0mstr\u001b[0m\u001b[0;34m)\u001b[0m\u001b[0;34m:\u001b[0m\u001b[0;34m\u001b[0m\u001b[0;34m\u001b[0m\u001b[0m\n\u001b[1;32m    651\u001b[0m             \u001b[0mqname\u001b[0m \u001b[0;34m=\u001b[0m \u001b[0mdns\u001b[0m\u001b[0;34m.\u001b[0m\u001b[0mname\u001b[0m\u001b[0;34m.\u001b[0m\u001b[0mfrom_text\u001b[0m\u001b[0;34m(\u001b[0m\u001b[0mqname\u001b[0m\u001b[0;34m,\u001b[0m \u001b[0;32mNone\u001b[0m\u001b[0;34m)\u001b[0m\u001b[0;34m\u001b[0m\u001b[0;34m\u001b[0m\u001b[0m\n\u001b[0;32m--> 652\u001b[0;31m         \u001b[0mrdtype\u001b[0m \u001b[0;34m=\u001b[0m \u001b[0mdns\u001b[0m\u001b[0;34m.\u001b[0m\u001b[0mrdatatype\u001b[0m\u001b[0;34m.\u001b[0m\u001b[0mRdataType\u001b[0m\u001b[0;34m.\u001b[0m\u001b[0mmake\u001b[0m\u001b[0;34m(\u001b[0m\u001b[0mrdtype\u001b[0m\u001b[0;34m)\u001b[0m\u001b[0;34m\u001b[0m\u001b[0;34m\u001b[0m\u001b[0m\n\u001b[0m\u001b[1;32m    653\u001b[0m         \u001b[0;32mif\u001b[0m \u001b[0mdns\u001b[0m\u001b[0;34m.\u001b[0m\u001b[0mrdatatype\u001b[0m\u001b[0;34m.\u001b[0m\u001b[0mis_metatype\u001b[0m\u001b[0;34m(\u001b[0m\u001b[0mrdtype\u001b[0m\u001b[0;34m)\u001b[0m\u001b[0;34m:\u001b[0m\u001b[0;34m\u001b[0m\u001b[0;34m\u001b[0m\u001b[0m\n\u001b[1;32m    654\u001b[0m             \u001b[0;32mraise\u001b[0m \u001b[0mNoMetaqueries\u001b[0m\u001b[0;34m\u001b[0m\u001b[0;34m\u001b[0m\u001b[0m\n",
            "\u001b[0;32m/usr/local/lib/python3.11/dist-packages/dns/enum.py\u001b[0m in \u001b[0;36mmake\u001b[0;34m(cls, value)\u001b[0m\n\u001b[1;32m     88\u001b[0m \u001b[0;34m\u001b[0m\u001b[0m\n\u001b[1;32m     89\u001b[0m         \u001b[0;32mif\u001b[0m \u001b[0misinstance\u001b[0m\u001b[0;34m(\u001b[0m\u001b[0mvalue\u001b[0m\u001b[0;34m,\u001b[0m \u001b[0mstr\u001b[0m\u001b[0;34m)\u001b[0m\u001b[0;34m:\u001b[0m\u001b[0;34m\u001b[0m\u001b[0;34m\u001b[0m\u001b[0m\n\u001b[0;32m---> 90\u001b[0;31m             \u001b[0;32mreturn\u001b[0m \u001b[0mcls\u001b[0m\u001b[0;34m.\u001b[0m\u001b[0mfrom_text\u001b[0m\u001b[0;34m(\u001b[0m\u001b[0mvalue\u001b[0m\u001b[0;34m)\u001b[0m\u001b[0;34m\u001b[0m\u001b[0;34m\u001b[0m\u001b[0m\n\u001b[0m\u001b[1;32m     91\u001b[0m         \u001b[0mcls\u001b[0m\u001b[0;34m.\u001b[0m\u001b[0m_check_value\u001b[0m\u001b[0;34m(\u001b[0m\u001b[0mvalue\u001b[0m\u001b[0;34m)\u001b[0m\u001b[0;34m\u001b[0m\u001b[0;34m\u001b[0m\u001b[0m\n\u001b[1;32m     92\u001b[0m         \u001b[0;32mreturn\u001b[0m \u001b[0mcls\u001b[0m\u001b[0;34m(\u001b[0m\u001b[0mvalue\u001b[0m\u001b[0;34m)\u001b[0m\u001b[0;34m\u001b[0m\u001b[0;34m\u001b[0m\u001b[0m\n",
            "\u001b[0;32m/usr/local/lib/python3.11/dist-packages/dns/enum.py\u001b[0m in \u001b[0;36mfrom_text\u001b[0;34m(cls, text)\u001b[0m\n\u001b[1;32m     58\u001b[0m             \u001b[0;32mexcept\u001b[0m \u001b[0mValueError\u001b[0m\u001b[0;34m:\u001b[0m\u001b[0;34m\u001b[0m\u001b[0;34m\u001b[0m\u001b[0m\n\u001b[1;32m     59\u001b[0m                 \u001b[0;32mreturn\u001b[0m \u001b[0mvalue\u001b[0m\u001b[0;34m\u001b[0m\u001b[0;34m\u001b[0m\u001b[0m\n\u001b[0;32m---> 60\u001b[0;31m         \u001b[0;32mraise\u001b[0m \u001b[0mcls\u001b[0m\u001b[0;34m.\u001b[0m\u001b[0m_unknown_exception_class\u001b[0m\u001b[0;34m(\u001b[0m\u001b[0;34m)\u001b[0m\u001b[0;34m\u001b[0m\u001b[0;34m\u001b[0m\u001b[0m\n\u001b[0m\u001b[1;32m     61\u001b[0m \u001b[0;34m\u001b[0m\u001b[0m\n\u001b[1;32m     62\u001b[0m     \u001b[0;34m@\u001b[0m\u001b[0mclassmethod\u001b[0m\u001b[0;34m\u001b[0m\u001b[0;34m\u001b[0m\u001b[0m\n",
            "\u001b[0;31mUnknownRdatatype\u001b[0m: DNS resource record type is unknown."
          ]
        }
      ]
    },
    {
      "cell_type": "code",
      "source": [
        "for data in query_res(\"google.com\", \"MX\"):\n",
        "  print(data)"
      ],
      "metadata": {
        "id": "fvRcjRra_SSz"
      },
      "execution_count": null,
      "outputs": []
    },
    {
      "cell_type": "code",
      "source": [],
      "metadata": {
        "id": "FGgZitahevwn"
      },
      "execution_count": null,
      "outputs": []
    },
    {
      "cell_type": "code",
      "source": [
        "query_soa = resolver.resolve(\"cnn.com\", \"SOA\")\n",
        "for data in query_soa:\n",
        "  print(data)\n",
        "len(query_soa)"
      ],
      "metadata": {
        "id": "zgU37q1Fe7iO"
      },
      "execution_count": null,
      "outputs": []
    },
    {
      "cell_type": "markdown",
      "source": [
        "# Known slector"
      ],
      "metadata": {
        "id": "QwMGNhwDuNwc"
      }
    },
    {
      "cell_type": "code",
      "source": [
        "def fetch_dkim(selector: str, domain: str) -> list[str]:\n",
        "    \"\"\"\n",
        "    Query DNS for the DKIM TXT record at:\n",
        "        {selector}._domainkey.{domain}\n",
        "\n",
        "    Returns a list of strings (one per TXT chunk) or raises if not found.\n",
        "    \"\"\"\n",
        "    record_name = f\"{selector}._domainkey.{domain}\"\n",
        "    try:\n",
        "        answers = dns.resolver.resolve(record_name, \"TXT\")\n",
        "    except (dns.resolver.NoAnswer, dns.resolver.NXDOMAIN) as e:\n",
        "        raise RuntimeError(f\"No DKIM record found for {record_name}\") from e\n",
        "\n",
        "    # rdata.strings is a tuple of byte-strings; join and decode each one\n",
        "    txts = []\n",
        "    for rdata in answers:\n",
        "        # Some records come back split into multiple chunks\n",
        "        full_txt = b\"\".join(rdata.strings).decode(\"utf-8\")\n",
        "        txts.append(full_txt)\n",
        "    return txts\n",
        "\n",
        "if __name__ == \"__main__\":\n",
        "    sel = \"default\"           # your DKIM selector\n",
        "    dom = \"example.com\"       # your domain\n",
        "    try:\n",
        "        records = fetch_dkim(sel, dom)\n",
        "        print(f\"DKIM ({sel}) for {dom}:\")\n",
        "        for txt in records:\n",
        "            print(\"  \", txt)\n",
        "    except RuntimeError as err:\n",
        "        print(err)\n"
      ],
      "metadata": {
        "colab": {
          "base_uri": "https://localhost:8080/"
        },
        "id": "o6JdXzjwqoXv",
        "outputId": "d648270a-001c-4b83-8f91-5d3cab6ff74e"
      },
      "execution_count": 10,
      "outputs": [
        {
          "output_type": "stream",
          "name": "stdout",
          "text": [
            "DKIM (default) for example.com:\n",
            "   v=DKIM1; p=\n"
          ]
        }
      ]
    },
    {
      "cell_type": "code",
      "source": [
        "dkim_result = fetch_dkim(\"sep2018\", \"blackboard.com\")"
      ],
      "metadata": {
        "id": "LMi7uwvvq3z9"
      },
      "execution_count": 11,
      "outputs": []
    },
    {
      "cell_type": "code",
      "source": [
        "for i in dkim_result:\n",
        "  display(i)"
      ],
      "metadata": {
        "colab": {
          "base_uri": "https://localhost:8080/",
          "height": 70
        },
        "id": "X-Cb6xNBrEkm",
        "outputId": "d02881c9-e0ae-46ff-b4bf-7b013309ff04"
      },
      "execution_count": 14,
      "outputs": [
        {
          "output_type": "display_data",
          "data": {
            "text/plain": [
              "'v=DKIM1;k=rsa;g=*;p=MIIBIjANBgkqhkiG9w0BAQEFAAOCAQ8AMIIBCgKCAQEAvs5qVO9zW6c82vTZNGUA9YYZKfoxtSXGdG/+QEHe0Kg9D0wIuHobngn/+NmvYSmZ2KtdnQssTF93MhXBlQ8jX3mjndj0tIaW6Snsm0+q68sJdzA7NtJBr4ljcEQRjq3jI6RQUrhs9gJ1DaKtws3SXMR8M72pQIbkuc5vkMxPCU5GPTj6TW9QweD/dZclLZ3o2AlcgONifoQY/7x2fV5GE9r55+xGB2m8yXKGeOybEkOAG9goPDp4/XQVPHfX6+Icv/OflXQ+mAuzutgyeWAe0NvYaO6NiN0I2MkcgXACsuOVwCnLs9lPkWbG9grZUEVz4wsJquAXgNQkse3eCpadIQIDAQAB'"
            ],
            "application/vnd.google.colaboratory.intrinsic+json": {
              "type": "string"
            }
          },
          "metadata": {}
        }
      ]
    },
    {
      "cell_type": "markdown",
      "source": [
        "# Check list of selectors"
      ],
      "metadata": {
        "id": "sYtPtf5quPde"
      }
    },
    {
      "cell_type": "code",
      "source": [
        "def find_dkim_selector(domain: str, selectors: list[str]) -> tuple[str, list[str]]:\n",
        "    \"\"\"\n",
        "    Try each selector in order. Return (selector, record_texts) on first success.\n",
        "    Raises RuntimeError if none found.\n",
        "    \"\"\"\n",
        "    for sel in selectors:\n",
        "        fqdn = f\"{sel}._domainkey.{domain}\"\n",
        "        try:\n",
        "            answers = dns.resolver.resolve(fqdn, \"TXT\")\n",
        "        except (dns.resolver.NXDOMAIN, dns.resolver.NoAnswer):\n",
        "            # selector not published or no TXT under that name\n",
        "            continue\n",
        "        # Reassemble multi-chunk TXT into full strings\n",
        "        txts = [b\"\".join(r.strings).decode(\"utf-8\") for r in answers]\n",
        "        return sel, txts\n",
        "\n",
        "    raise RuntimeError(f\"No DKIM selector found for {domain} in list\")\n",
        "\n",
        "# example usage\n",
        "common = [\"default\", \"google\", \"selector1\", \"mail\", \"spf\", \"dkim\"]\n",
        "try:\n",
        "    sel, record = find_dkim_selector(\"example.com\", common)\n",
        "    print(f\"Found selector: {sel}\\n{record}\")\n",
        "except RuntimeError as e:\n",
        "    print(e)\n"
      ],
      "metadata": {
        "colab": {
          "base_uri": "https://localhost:8080/"
        },
        "id": "7s-EWY0EuLPI",
        "outputId": "271fbf41-306f-4557-ce1e-ae6b9e37af1e"
      },
      "execution_count": 15,
      "outputs": [
        {
          "output_type": "stream",
          "name": "stdout",
          "text": [
            "Found selector: default\n",
            "['v=DKIM1; p=']\n"
          ]
        }
      ]
    },
    {
      "cell_type": "code",
      "source": [
        "find_dkim_selector(\"tamusa.edu\", common)"
      ],
      "metadata": {
        "colab": {
          "base_uri": "https://localhost:8080/"
        },
        "id": "km54eyP0uWYA",
        "outputId": "8073ccc7-80df-4667-8eab-57ecb1fbb328"
      },
      "execution_count": 18,
      "outputs": [
        {
          "output_type": "execute_result",
          "data": {
            "text/plain": [
              "('selector1',\n",
              " ['v=DKIM1; k=rsa; p=MIGfMA0GCSqGSIb3DQEBAQUAA4GNADCBiQKBgQC79iPvavR1MznIsla6OIVk5SfHCVhxLLDwaS43NRjthA023x6QCdC+DdfpHl4+WEw6gPwhzO4nRk82KFzQBGkHt/uQvJrS7iEkAW5BNBjvzuQijfV3cdrerOkj7NqvmhVbttgM3Ptr3wJrEhtKVLqAlJCDp3HcmuVr2nALAm/GSQIDAQAB; n=1024,1453259481,1468984281'])"
            ]
          },
          "metadata": {},
          "execution_count": 18
        }
      ]
    }
  ]
}